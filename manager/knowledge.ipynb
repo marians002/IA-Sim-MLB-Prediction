{
 "cells": [
  {
   "cell_type": "markdown",
   "metadata": {},
   "source": [
    "# Sistema basado en reglas y ML\n",
    "### Simula el comportamiento de los managers de béisbol durante los partidos."
   ]
  },
  {
   "metadata": {},
   "cell_type": "code",
   "execution_count": null,
   "source": "import pandas as pd",
   "outputs": []
  },
  {
   "cell_type": "markdown",
   "metadata": {},
   "source": [
    "### Simulador de jugadas:"
   ]
  },
  {
   "cell_type": "code",
   "execution_count": 1,
   "metadata": {},
   "source": [
    "from game_simulator import *"
   ],
   "outputs": []
  },
  {
   "cell_type": "markdown",
   "metadata": {},
   "source": [
    "### Reglas"
   ]
  },
  {
   "cell_type": "code",
   "execution_count": 2,
   "metadata": {},
   "source": [
    "from rules import *"
   ],
   "outputs": []
  },
  {
   "cell_type": "markdown",
   "metadata": {},
   "source": [
    "### Manager"
   ]
  },
  {
   "cell_type": "code",
   "execution_count": 3,
   "metadata": {},
   "source": [
    "from baseball_manager import *"
   ],
   "outputs": []
  },
  {
   "metadata": {},
   "cell_type": "markdown",
   "source": "Crear el manager y agregar las reglas\n"
  },
  {
   "cell_type": "code",
   "execution_count": 4,
   "metadata": {},
   "source": [
    "manager = BaseballManager()\n",
    "manager.add_rule(change_pitcher_rule)\n",
    "manager.add_rule(steal_base_rule)\n",
    "manager.add_rule(bunt_rule)\n",
    "manager.add_rule(challenge_rule)\n",
    "manager.add_rule(defensive_shift_rule)\n",
    "manager.add_rule(bullpen_usage_rule)\n",
    "manager.add_rule(pinch_hitter_rule)\n",
    "manager.add_rule(hit_and_run_rule)\n",
    "manager.add_rule(infield_in_rule)\n",
    "manager.add_rule(defensive_positioning_rule)\n",
    "\n",
    "# Cargar datos de bateadores y lanzadores\n",
    "batters_df = pd.read_csv('batters.csv')\n",
    "pitchers_df = pd.read_csv('pitchers.csv')\n",
    "\n",
    "# Crear el simulador y simular el juego\n",
    "simulator = GameSimulator(manager, batters_df, pitchers_df)\n",
    "simulator.simulate_game(100)  # Simular 100 lanzamientos\n",
    "simulator.save_log('game_log.json')\n",
    "\n",
    "# Evaluar las reglas\n",
    "action = manager.evaluate_rules(simulator.game_state)\n",
    "print(f\"Action: {action}\")\n",
    "# Imprimir el estado del juego\n",
    "\n",
    "print(simulator)\n"
   ],
   "outputs": []
  },
  {
   "cell_type": "markdown",
   "metadata": {},
   "source": [
    "Árbol de decisión para predecir el rendimiento de los lanzadores."
   ]
  },
  {
   "cell_type": "code",
   "execution_count": 5,
   "metadata": {},
   "source": [
    "from sklearn.tree import DecisionTreeClassifier\n",
    "import numpy as np\n",
    "\n",
    "# Datos de entrenamiento (ejemplo)\n",
    "X_train = np.array([[90, 0], [110, 1], [95, 0], [105, 1]])  # [pitch_count, opponent_batter (0: right, 1: left)]\n",
    "y_train = np.array([0, 1, 0, 1])  # 0: no change, 1: change\n",
    "\n",
    "# Entrenar el modelo\n",
    "model = DecisionTreeClassifier()\n",
    "model.fit(X_train, y_train)\n",
    "\n",
    "# Función para predecir la acción\n",
    "def predict_action(game_state):\n",
    "    features = np.array([[game_state['pitch_count'], game_state['opponent_batter']]])\n",
    "    prediction = model.predict(features)\n",
    "    return \"Change pitcher\" if prediction[0] == 1 else \"No change\"\n"
   ],
   "outputs": []
  },
  {
   "cell_type": "markdown",
   "metadata": {},
   "source": [
    "Integrar el Sistema Basado en Reglas y el Modelo de ML"
   ]
  },
  {
   "cell_type": "code",
   "execution_count": 6,
   "metadata": {},
   "source": [
    "class HybridBaseballManager(BaseballManager):\n",
    "    def __init__(self, model):\n",
    "        super().__init__()\n",
    "        self.model = model\n",
    "\n",
    "    def evaluate_rules_and_model(self, game_state):\n",
    "        rule_action = self.evaluate_rules(game_state)\n",
    "        if rule_action != \"No action\":\n",
    "            return rule_action\n",
    "        return predict_action(game_state)\n",
    "\n",
    "# Crear el manager híbrido\n",
    "hybrid_manager = HybridBaseballManager(model)\n",
    "game_state = simulator.game_state \n",
    "action = hybrid_manager.evaluate_rules_and_model(game_state)\n",
    "print(f\"Action: {action}\")\n"
   ],
   "outputs": []
  }
 ],
 "metadata": {
  "kernelspec": {
   "display_name": "Python 3",
   "language": "python",
   "name": "python3"
  },
  "language_info": {
   "codemirror_mode": {
    "name": "ipython",
    "version": 3
   },
   "file_extension": ".py",
   "mimetype": "text/x-python",
   "name": "python",
   "nbconvert_exporter": "python",
   "pygments_lexer": "ipython3",
   "version": "3.12.3"
  }
 },
 "nbformat": 4,
 "nbformat_minor": 2
}
